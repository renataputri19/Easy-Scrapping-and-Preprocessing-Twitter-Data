{
 "cells": [
  {
   "cell_type": "code",
   "execution_count": 1,
   "metadata": {
    "id": "yWqCIrX_3g5m"
   },
   "outputs": [],
   "source": [
    "import pandas as pd\n",
    "import matplotlib.pyplot as plt\n",
    "import seaborn as sns\n",
    "import numpy as np\n",
    "from nltk.corpus import stopwords\n",
    "from sklearn.feature_extraction.text import CountVectorizer\n",
    "from collections import defaultdict\n",
    "from collections import  Counter\n",
    "plt.style.use('ggplot')\n",
    "import re\n",
    "from nltk.tokenize import word_tokenize\n",
    "import string\n",
    "from sklearn.model_selection import train_test_split\n",
    "from datetime import datetime, date"
   ]
  },
  {
   "cell_type": "markdown",
   "metadata": {
    "id": "g2Br0Ul80PVa"
   },
   "source": [
    "# Import Data"
   ]
  },
  {
   "cell_type": "code",
   "execution_count": 24,
   "metadata": {
    "id": "IfeZ960PljyN"
   },
   "outputs": [],
   "source": [
    "data = pd.read_csv(\"data_twitter.csv\")"
   ]
  },
  {
   "cell_type": "code",
   "execution_count": 25,
   "metadata": {},
   "outputs": [
    {
     "data": {
      "text/html": [
       "<div>\n",
       "<style scoped>\n",
       "    .dataframe tbody tr th:only-of-type {\n",
       "        vertical-align: middle;\n",
       "    }\n",
       "\n",
       "    .dataframe tbody tr th {\n",
       "        vertical-align: top;\n",
       "    }\n",
       "\n",
       "    .dataframe thead th {\n",
       "        text-align: right;\n",
       "    }\n",
       "</style>\n",
       "<table border=\"1\" class=\"dataframe\">\n",
       "  <thead>\n",
       "    <tr style=\"text-align: right;\">\n",
       "      <th></th>\n",
       "      <th>Unnamed: 0</th>\n",
       "      <th>created_at</th>\n",
       "      <th>date</th>\n",
       "      <th>time</th>\n",
       "      <th>username</th>\n",
       "      <th>tweet</th>\n",
       "    </tr>\n",
       "  </thead>\n",
       "  <tbody>\n",
       "    <tr>\n",
       "      <th>0</th>\n",
       "      <td>0</td>\n",
       "      <td>2021-11-21 14:30:01 SE Asia Standard Time</td>\n",
       "      <td>2021-11-21</td>\n",
       "      <td>14:30:01</td>\n",
       "      <td>nowbitcoinprice</td>\n",
       "      <td>Nov 21, 2021 07:29:00 UTC | 59,158.80$ | 52,41...</td>\n",
       "    </tr>\n",
       "    <tr>\n",
       "      <th>1</th>\n",
       "      <td>1</td>\n",
       "      <td>2021-11-21 14:22:26 SE Asia Standard Time</td>\n",
       "      <td>2021-11-21</td>\n",
       "      <td>14:22:26</td>\n",
       "      <td>bitcoingraph</td>\n",
       "      <td>[BTCUSDT - H4] #BTC #BTCUSDT #BINANCE #BTCUSD ...</td>\n",
       "    </tr>\n",
       "    <tr>\n",
       "      <th>2</th>\n",
       "      <td>2</td>\n",
       "      <td>2021-11-21 14:17:14 SE Asia Standard Time</td>\n",
       "      <td>2021-11-21</td>\n",
       "      <td>14:17:14</td>\n",
       "      <td>shanaz3197</td>\n",
       "      <td>@tunefmofficial $JAM $HBAR #NFTs #Crypto #TUNEFM</td>\n",
       "    </tr>\n",
       "    <tr>\n",
       "      <th>3</th>\n",
       "      <td>3</td>\n",
       "      <td>2021-11-21 14:10:38 SE Asia Standard Time</td>\n",
       "      <td>2021-11-21</td>\n",
       "      <td>14:10:38</td>\n",
       "      <td>mdshipo22750084</td>\n",
       "      <td>@tunefmofficial $JAM $HBAR #NFTs #Crypto #TUNEFM</td>\n",
       "    </tr>\n",
       "    <tr>\n",
       "      <th>4</th>\n",
       "      <td>4</td>\n",
       "      <td>2021-11-21 14:07:27 SE Asia Standard Time</td>\n",
       "      <td>2021-11-21</td>\n",
       "      <td>14:07:27</td>\n",
       "      <td>khaiyaraya</td>\n",
       "      <td>First Meeting, Crypto Trading.   Kepada yang i...</td>\n",
       "    </tr>\n",
       "    <tr>\n",
       "      <th>...</th>\n",
       "      <td>...</td>\n",
       "      <td>...</td>\n",
       "      <td>...</td>\n",
       "      <td>...</td>\n",
       "      <td>...</td>\n",
       "      <td>...</td>\n",
       "    </tr>\n",
       "    <tr>\n",
       "      <th>8472</th>\n",
       "      <td>8472</td>\n",
       "      <td>2021-11-12 19:15:09 SE Asia Standard Time</td>\n",
       "      <td>2021-11-12</td>\n",
       "      <td>19:15:09</td>\n",
       "      <td>tribunpontianak</td>\n",
       "      <td>Alasan MUI Haramkan Kripto #BeritaTerkini #ber...</td>\n",
       "    </tr>\n",
       "    <tr>\n",
       "      <th>8473</th>\n",
       "      <td>8473</td>\n",
       "      <td>2021-11-12 19:10:33 SE Asia Standard Time</td>\n",
       "      <td>2021-11-12</td>\n",
       "      <td>19:10:33</td>\n",
       "      <td>tribunpontianak</td>\n",
       "      <td>Apa itu Kripto ? Sejarahnya ? #BeritaTerkini #...</td>\n",
       "    </tr>\n",
       "    <tr>\n",
       "      <th>8474</th>\n",
       "      <td>8474</td>\n",
       "      <td>2021-11-12 15:00:23 SE Asia Standard Time</td>\n",
       "      <td>2021-11-12</td>\n",
       "      <td>15:00:23</td>\n",
       "      <td>suhukripto</td>\n",
       "      <td>Kali ini FUD datang dari dalam negri guys, Hmm...</td>\n",
       "    </tr>\n",
       "    <tr>\n",
       "      <th>8475</th>\n",
       "      <td>8475</td>\n",
       "      <td>2021-11-12 14:00:21 SE Asia Standard Time</td>\n",
       "      <td>2021-11-12</td>\n",
       "      <td>14:00:21</td>\n",
       "      <td>dialektikakng</td>\n",
       "      <td>Hasil Ijtima Ulama ke-VII, Komisi Fatwa MUI Me...</td>\n",
       "    </tr>\n",
       "    <tr>\n",
       "      <th>8476</th>\n",
       "      <td>8476</td>\n",
       "      <td>2021-11-11 15:44:50 SE Asia Standard Time</td>\n",
       "      <td>2021-11-11</td>\n",
       "      <td>15:44:50</td>\n",
       "      <td>vingika</td>\n",
       "      <td>Majelis Ulama Indonesia (MUI) lewat Ijtima Ula...</td>\n",
       "    </tr>\n",
       "  </tbody>\n",
       "</table>\n",
       "<p>8477 rows × 6 columns</p>\n",
       "</div>"
      ],
      "text/plain": [
       "      Unnamed: 0                                 created_at        date  \\\n",
       "0              0  2021-11-21 14:30:01 SE Asia Standard Time  2021-11-21   \n",
       "1              1  2021-11-21 14:22:26 SE Asia Standard Time  2021-11-21   \n",
       "2              2  2021-11-21 14:17:14 SE Asia Standard Time  2021-11-21   \n",
       "3              3  2021-11-21 14:10:38 SE Asia Standard Time  2021-11-21   \n",
       "4              4  2021-11-21 14:07:27 SE Asia Standard Time  2021-11-21   \n",
       "...          ...                                        ...         ...   \n",
       "8472        8472  2021-11-12 19:15:09 SE Asia Standard Time  2021-11-12   \n",
       "8473        8473  2021-11-12 19:10:33 SE Asia Standard Time  2021-11-12   \n",
       "8474        8474  2021-11-12 15:00:23 SE Asia Standard Time  2021-11-12   \n",
       "8475        8475  2021-11-12 14:00:21 SE Asia Standard Time  2021-11-12   \n",
       "8476        8476  2021-11-11 15:44:50 SE Asia Standard Time  2021-11-11   \n",
       "\n",
       "          time         username  \\\n",
       "0     14:30:01  nowbitcoinprice   \n",
       "1     14:22:26     bitcoingraph   \n",
       "2     14:17:14       shanaz3197   \n",
       "3     14:10:38  mdshipo22750084   \n",
       "4     14:07:27       khaiyaraya   \n",
       "...        ...              ...   \n",
       "8472  19:15:09  tribunpontianak   \n",
       "8473  19:10:33  tribunpontianak   \n",
       "8474  15:00:23       suhukripto   \n",
       "8475  14:00:21    dialektikakng   \n",
       "8476  15:44:50          vingika   \n",
       "\n",
       "                                                  tweet  \n",
       "0     Nov 21, 2021 07:29:00 UTC | 59,158.80$ | 52,41...  \n",
       "1     [BTCUSDT - H4] #BTC #BTCUSDT #BINANCE #BTCUSD ...  \n",
       "2      @tunefmofficial $JAM $HBAR #NFTs #Crypto #TUNEFM  \n",
       "3      @tunefmofficial $JAM $HBAR #NFTs #Crypto #TUNEFM  \n",
       "4     First Meeting, Crypto Trading.   Kepada yang i...  \n",
       "...                                                 ...  \n",
       "8472  Alasan MUI Haramkan Kripto #BeritaTerkini #ber...  \n",
       "8473  Apa itu Kripto ? Sejarahnya ? #BeritaTerkini #...  \n",
       "8474  Kali ini FUD datang dari dalam negri guys, Hmm...  \n",
       "8475  Hasil Ijtima Ulama ke-VII, Komisi Fatwa MUI Me...  \n",
       "8476  Majelis Ulama Indonesia (MUI) lewat Ijtima Ula...  \n",
       "\n",
       "[8477 rows x 6 columns]"
      ]
     },
     "execution_count": 25,
     "metadata": {},
     "output_type": "execute_result"
    }
   ],
   "source": [
    "data"
   ]
  },
  {
   "cell_type": "code",
   "execution_count": 26,
   "metadata": {},
   "outputs": [
    {
     "data": {
      "text/plain": [
       "Unnamed: 0    0\n",
       "created_at    0\n",
       "date          0\n",
       "time          0\n",
       "username      0\n",
       "tweet         0\n",
       "dtype: int64"
      ]
     },
     "execution_count": 26,
     "metadata": {},
     "output_type": "execute_result"
    }
   ],
   "source": [
    "data.isna().sum()"
   ]
  },
  {
   "cell_type": "code",
   "execution_count": 28,
   "metadata": {},
   "outputs": [
    {
     "data": {
      "text/html": [
       "<div>\n",
       "<style scoped>\n",
       "    .dataframe tbody tr th:only-of-type {\n",
       "        vertical-align: middle;\n",
       "    }\n",
       "\n",
       "    .dataframe tbody tr th {\n",
       "        vertical-align: top;\n",
       "    }\n",
       "\n",
       "    .dataframe thead th {\n",
       "        text-align: right;\n",
       "    }\n",
       "</style>\n",
       "<table border=\"1\" class=\"dataframe\">\n",
       "  <thead>\n",
       "    <tr style=\"text-align: right;\">\n",
       "      <th></th>\n",
       "      <th>Unnamed: 0</th>\n",
       "      <th>created_at</th>\n",
       "      <th>date</th>\n",
       "      <th>time</th>\n",
       "      <th>username</th>\n",
       "      <th>tweet</th>\n",
       "    </tr>\n",
       "  </thead>\n",
       "  <tbody>\n",
       "    <tr>\n",
       "      <th>0</th>\n",
       "      <td>0</td>\n",
       "      <td>2021-11-21 14:30:01 SE Asia Standard Time</td>\n",
       "      <td>2021-11-21</td>\n",
       "      <td>14:30:01</td>\n",
       "      <td>nowbitcoinprice</td>\n",
       "      <td>Nov 21, 2021 07:29:00 UTC | 59,158.80$ | 52,41...</td>\n",
       "    </tr>\n",
       "    <tr>\n",
       "      <th>1</th>\n",
       "      <td>1</td>\n",
       "      <td>2021-11-21 14:22:26 SE Asia Standard Time</td>\n",
       "      <td>2021-11-21</td>\n",
       "      <td>14:22:26</td>\n",
       "      <td>bitcoingraph</td>\n",
       "      <td>[BTCUSDT - H4] #BTC #BTCUSDT #BINANCE #BTCUSD ...</td>\n",
       "    </tr>\n",
       "    <tr>\n",
       "      <th>2</th>\n",
       "      <td>2</td>\n",
       "      <td>2021-11-21 14:17:14 SE Asia Standard Time</td>\n",
       "      <td>2021-11-21</td>\n",
       "      <td>14:17:14</td>\n",
       "      <td>shanaz3197</td>\n",
       "      <td>@tunefmofficial $JAM $HBAR #NFTs #Crypto #TUNEFM</td>\n",
       "    </tr>\n",
       "    <tr>\n",
       "      <th>4</th>\n",
       "      <td>4</td>\n",
       "      <td>2021-11-21 14:07:27 SE Asia Standard Time</td>\n",
       "      <td>2021-11-21</td>\n",
       "      <td>14:07:27</td>\n",
       "      <td>khaiyaraya</td>\n",
       "      <td>First Meeting, Crypto Trading.   Kepada yang i...</td>\n",
       "    </tr>\n",
       "    <tr>\n",
       "      <th>5</th>\n",
       "      <td>5</td>\n",
       "      <td>2021-11-21 14:00:01 SE Asia Standard Time</td>\n",
       "      <td>2021-11-21</td>\n",
       "      <td>14:00:01</td>\n",
       "      <td>nowbitcoinprice</td>\n",
       "      <td>Nov 21, 2021 06:59:00 UTC | 59,278.70$ | 52,51...</td>\n",
       "    </tr>\n",
       "    <tr>\n",
       "      <th>...</th>\n",
       "      <td>...</td>\n",
       "      <td>...</td>\n",
       "      <td>...</td>\n",
       "      <td>...</td>\n",
       "      <td>...</td>\n",
       "      <td>...</td>\n",
       "    </tr>\n",
       "    <tr>\n",
       "      <th>5784</th>\n",
       "      <td>5784</td>\n",
       "      <td>2021-11-21 14:49:42 SE Asia Standard Time</td>\n",
       "      <td>2021-11-21</td>\n",
       "      <td>14:49:42</td>\n",
       "      <td>stevenjhsiahaan</td>\n",
       "      <td>Halo! Sekarang, kamu bisa investasi saham luar...</td>\n",
       "    </tr>\n",
       "    <tr>\n",
       "      <th>5785</th>\n",
       "      <td>5785</td>\n",
       "      <td>2021-11-21 14:45:28 SE Asia Standard Time</td>\n",
       "      <td>2021-11-21</td>\n",
       "      <td>14:45:28</td>\n",
       "      <td>samuelcendikia1</td>\n",
       "      <td>Halo! Sekarang, kamu bisa investasi saham luar...</td>\n",
       "    </tr>\n",
       "    <tr>\n",
       "      <th>5786</th>\n",
       "      <td>5786</td>\n",
       "      <td>2021-11-21 14:39:45 SE Asia Standard Time</td>\n",
       "      <td>2021-11-21</td>\n",
       "      <td>14:39:45</td>\n",
       "      <td>saturnusgo</td>\n",
       "      <td>@binnybunny96 @BigAlphaID Kripto haram mbak!  ...</td>\n",
       "    </tr>\n",
       "    <tr>\n",
       "      <th>5787</th>\n",
       "      <td>5787</td>\n",
       "      <td>2021-11-21 14:35:25 SE Asia Standard Time</td>\n",
       "      <td>2021-11-21</td>\n",
       "      <td>14:35:25</td>\n",
       "      <td>muhamad25615484</td>\n",
       "      <td>Halo! Sekarang, kamu bisa investasi saham luar...</td>\n",
       "    </tr>\n",
       "    <tr>\n",
       "      <th>5860</th>\n",
       "      <td>5860</td>\n",
       "      <td>2021-11-21 07:04:49 SE Asia Standard Time</td>\n",
       "      <td>2021-11-21</td>\n",
       "      <td>07:04:49</td>\n",
       "      <td>iqballl___</td>\n",
       "      <td>Yang mengharamkan kripto, pernah gak sih mikir...</td>\n",
       "    </tr>\n",
       "  </tbody>\n",
       "</table>\n",
       "<p>3361 rows × 6 columns</p>\n",
       "</div>"
      ],
      "text/plain": [
       "      Unnamed: 0                                 created_at        date  \\\n",
       "0              0  2021-11-21 14:30:01 SE Asia Standard Time  2021-11-21   \n",
       "1              1  2021-11-21 14:22:26 SE Asia Standard Time  2021-11-21   \n",
       "2              2  2021-11-21 14:17:14 SE Asia Standard Time  2021-11-21   \n",
       "4              4  2021-11-21 14:07:27 SE Asia Standard Time  2021-11-21   \n",
       "5              5  2021-11-21 14:00:01 SE Asia Standard Time  2021-11-21   \n",
       "...          ...                                        ...         ...   \n",
       "5784        5784  2021-11-21 14:49:42 SE Asia Standard Time  2021-11-21   \n",
       "5785        5785  2021-11-21 14:45:28 SE Asia Standard Time  2021-11-21   \n",
       "5786        5786  2021-11-21 14:39:45 SE Asia Standard Time  2021-11-21   \n",
       "5787        5787  2021-11-21 14:35:25 SE Asia Standard Time  2021-11-21   \n",
       "5860        5860  2021-11-21 07:04:49 SE Asia Standard Time  2021-11-21   \n",
       "\n",
       "          time         username  \\\n",
       "0     14:30:01  nowbitcoinprice   \n",
       "1     14:22:26     bitcoingraph   \n",
       "2     14:17:14       shanaz3197   \n",
       "4     14:07:27       khaiyaraya   \n",
       "5     14:00:01  nowbitcoinprice   \n",
       "...        ...              ...   \n",
       "5784  14:49:42  stevenjhsiahaan   \n",
       "5785  14:45:28  samuelcendikia1   \n",
       "5786  14:39:45       saturnusgo   \n",
       "5787  14:35:25  muhamad25615484   \n",
       "5860  07:04:49       iqballl___   \n",
       "\n",
       "                                                  tweet  \n",
       "0     Nov 21, 2021 07:29:00 UTC | 59,158.80$ | 52,41...  \n",
       "1     [BTCUSDT - H4] #BTC #BTCUSDT #BINANCE #BTCUSD ...  \n",
       "2      @tunefmofficial $JAM $HBAR #NFTs #Crypto #TUNEFM  \n",
       "4     First Meeting, Crypto Trading.   Kepada yang i...  \n",
       "5     Nov 21, 2021 06:59:00 UTC | 59,278.70$ | 52,51...  \n",
       "...                                                 ...  \n",
       "5784  Halo! Sekarang, kamu bisa investasi saham luar...  \n",
       "5785  Halo! Sekarang, kamu bisa investasi saham luar...  \n",
       "5786  @binnybunny96 @BigAlphaID Kripto haram mbak!  ...  \n",
       "5787  Halo! Sekarang, kamu bisa investasi saham luar...  \n",
       "5860  Yang mengharamkan kripto, pernah gak sih mikir...  \n",
       "\n",
       "[3361 rows x 6 columns]"
      ]
     },
     "execution_count": 28,
     "metadata": {},
     "output_type": "execute_result"
    }
   ],
   "source": [
    "data = data.drop_duplicates(subset=['tweet'])\n",
    "data"
   ]
  },
  {
   "cell_type": "markdown",
   "metadata": {
    "id": "oZftmCZmjHba"
   },
   "source": [
    "# Preprocessing"
   ]
  },
  {
   "cell_type": "markdown",
   "metadata": {
    "id": "CCtNEH0NKb0s"
   },
   "source": [
    "**Emoji detection**"
   ]
  },
  {
   "cell_type": "code",
   "execution_count": 31,
   "metadata": {
    "colab": {
     "base_uri": "https://localhost:8080/",
     "height": 33
    },
    "id": "zHowrSPlKioz",
    "outputId": "893ff1e6-ef26-40ad-d6cf-d411a9612045"
   },
   "outputs": [
    {
     "name": "stdout",
     "output_type": "stream",
     "text": [
      "{';', '=', '-', ',', ']', '\\\\', '(', '$', '?', '*', '`', '[', '<', \"'\", ')', '}', ':', '@', '!', '.', '~', '#', '|', '+', '_', '&', '>', '%', '/', '^', '\"', '{'}\n"
     ]
    }
   ],
   "source": [
    "import string\n",
    "punct = set(string.punctuation)\n",
    "print(punct)"
   ]
  },
  {
   "cell_type": "code",
   "execution_count": 32,
   "metadata": {
    "colab": {
     "base_uri": "https://localhost:8080/",
     "height": 33
    },
    "id": "kjd5ifHCKmeF",
    "outputId": "0271c887-8e0d-4c02-cadd-ba745bee1a87"
   },
   "outputs": [
    {
     "name": "stdout",
     "output_type": "stream",
     "text": [
      "🧩🤔😭😳🌹😊👹€™£😬🙇🙈🟠✨🤬💹🚩😝😡🥶✌✔🟥💪🍀✊🔔😞😹⬅🎗🗿🏃🤙👎🤫🎉⌛💎’👾🤖🤩🦊…😜🤌🚗❗😶🥴🌤😵📰📍🤨💲🍇👂🥺🤪🔴😎😉🛡🇮👍🇺🤯🌟🤭🎙🌍❤–‍🆓💨♂🐕😑🏼🗓👊😃°😄😇⚡🥱😔📌©✅₹⏰💣🧭🪐🔥🕯😤💕🚀💻😒👇🤡🧓😐🎣🙌🔗☑🐉😘😛🖤😙💯💥❣🤝🪙🥳🙅💫🗞🥷️😁▶😀🧜🐇»🤑🍷🧐👏😩🔸😅🔵🤞🤷📣😖🏝🥲🤣🍯💞⁦⁩👋🌧♀🤦➡🚜🙄🔨🔹🌙🖥—😆🏿🇲💵🧠😌📲😢😂🏻👀😍“🧎💀🇩📈😱🆗🚨🙃💰⚓‘❌✍🌚🥰🙏☺🥇🐖🦆😥👉👌•☕🙂😣”👆🔊🙀💡\n"
     ]
    }
   ],
   "source": [
    "emoji = set()\n",
    "for s in data['tweet'].fillna('').astype(str):\n",
    "    for c in s:\n",
    "        if c.isdigit() or c.isalpha() or c.isalnum() or c.isspace() or c in punct:\n",
    "            continue\n",
    "        emoji.add(c)\n",
    "        \n",
    "print(''.join(emoji))"
   ]
  },
  {
   "cell_type": "markdown",
   "metadata": {
    "id": "0Cje1cmb5lYD"
   },
   "source": [
    "**Dowload Stopword**"
   ]
  },
  {
   "cell_type": "markdown",
   "metadata": {
    "id": "O4UxCNX_Eqq-"
   },
   "source": [
    "#Data Cleaning\n",
    "\n",
    "Data Cleaning adalah proses mendeteksi dan memperbaiki catatan yang korup, tidak akurat,atau tidak relevan dari data, kemudian mengganti, memodifikasi, atau menghapus data yang kotor tersebut. "
   ]
  },
  {
   "cell_type": "code",
   "execution_count": 33,
   "metadata": {
    "id": "eDEyYqgU7L1D"
   },
   "outputs": [
    {
     "name": "stderr",
     "output_type": "stream",
     "text": [
      "<ipython-input-33-a30139c8769e>:1: SettingWithCopyWarning: \n",
      "A value is trying to be set on a copy of a slice from a DataFrame.\n",
      "Try using .loc[row_indexer,col_indexer] = value instead\n",
      "\n",
      "See the caveats in the documentation: https://pandas.pydata.org/pandas-docs/stable/user_guide/indexing.html#returning-a-view-versus-a-copy\n",
      "  data['tweet']=data['tweet'].apply(str)\n"
     ]
    }
   ],
   "source": [
    "data['tweet']=data['tweet'].apply(str)"
   ]
  },
  {
   "cell_type": "markdown",
   "metadata": {
    "id": "lzbmqIqGDv3N"
   },
   "source": [
    "**Remove URL**"
   ]
  },
  {
   "cell_type": "code",
   "execution_count": 34,
   "metadata": {
    "colab": {
     "base_uri": "https://localhost:8080/",
     "height": 35
    },
    "id": "wDi6mBMzDmtT",
    "outputId": "f99ef529-fcba-44c4-b924-c228ced845fb"
   },
   "outputs": [
    {
     "data": {
      "text/plain": [
       "'New competition launched :'"
      ]
     },
     "execution_count": 34,
     "metadata": {},
     "output_type": "execute_result"
    }
   ],
   "source": [
    "example=\"New competition launched :https://www.kaggle.com/c/nlp-getting-started\"\n",
    "\n",
    "def remove_URL(text):\n",
    "    url = re.compile(r'https?://\\S+|www\\.\\S+')\n",
    "    return url.sub(r'',text)\n",
    "\n",
    "remove_URL(example)"
   ]
  },
  {
   "cell_type": "code",
   "execution_count": 35,
   "metadata": {
    "id": "A9JnmsqQDu_P"
   },
   "outputs": [
    {
     "name": "stderr",
     "output_type": "stream",
     "text": [
      "<ipython-input-35-d844ca80495f>:1: SettingWithCopyWarning: \n",
      "A value is trying to be set on a copy of a slice from a DataFrame.\n",
      "Try using .loc[row_indexer,col_indexer] = value instead\n",
      "\n",
      "See the caveats in the documentation: https://pandas.pydata.org/pandas-docs/stable/user_guide/indexing.html#returning-a-view-versus-a-copy\n",
      "  data['tweet'] = data['tweet'].apply(lambda x : remove_URL(x))\n"
     ]
    }
   ],
   "source": [
    "data['tweet'] = data['tweet'].apply(lambda x : remove_URL(x))"
   ]
  },
  {
   "cell_type": "markdown",
   "metadata": {
    "id": "YORm3MTQA6zD"
   },
   "source": [
    "**Remove Emoji**"
   ]
  },
  {
   "cell_type": "code",
   "execution_count": 36,
   "metadata": {
    "colab": {
     "base_uri": "https://localhost:8080/"
    },
    "id": "PandlpqBA7px",
    "outputId": "c18cd90b-8b1d-4457-e004-cd93c888141f"
   },
   "outputs": [
    {
     "name": "stdout",
     "output_type": "stream",
     "text": [
      "{';', '=', '-', ',', ']', '\\\\', '(', '$', '?', '*', '`', '[', '<', \"'\", ')', '}', ':', '@', '!', '.', '~', '#', '|', '+', '_', '&', '>', '%', '/', '^', '\"', '{'}\n"
     ]
    }
   ],
   "source": [
    "import string\n",
    "punct = set(string.punctuation)\n",
    "print(punct)"
   ]
  },
  {
   "cell_type": "code",
   "execution_count": 37,
   "metadata": {
    "colab": {
     "base_uri": "https://localhost:8080/"
    },
    "id": "salslPtMA9qR",
    "outputId": "7dacf881-8187-4872-be61-32326aaddfa7"
   },
   "outputs": [
    {
     "name": "stdout",
     "output_type": "stream",
     "text": [
      "🧩🤔😭😳🌹😊👹€™£😬🙇🙈🟠✨🤬💹🚩😝😡🥶✌✔🟥💪🍀✊🔔😞😹⬅🎗🗿🏃🤙👎🤫🎉ð⌛💎’👾🤖🤩🦊…😜🤌🚗❗😶🥴🌤😵📰📍🤨💲🍇👂🥺🤪🔴😎😉🛡🇮👍🇺🤯🌟🤭🎙🌍❤–‍🆓💨♂🐕😑🏼🗓👊😃°😄😇⚡🥱😔📌©✅₹⏰â💣🧭🪐🔥🕯😤💕🚀💻😒👇🤡🧓😐🎣🙌🔗˜☑🐉😘😛🖤😙💯💥❣🤝🪙🥳🙅💫🗞🥷️😁▶😀🧜🐇»Ÿ🤑🍷🧐👏😩🔸😅🔵🤞🤷📣😖🏝🥲🤣🍯💞⁦⁩👋🌧♀🤦➡🚜🙄🔨🔹🌙🖥—😆🏿🇲💵🧠😌📲😢😂🏻👀😍“🧎💀🇩📈😱🆗🚨🙃💰⚓‘❌✍🌚🥰🙏☺🥇🐖🦆😥👉👌•☕🙂😣”👆🔊🙀💡\n"
     ]
    }
   ],
   "source": [
    "emoji = set()\n",
    "symbol = 'ðŸ˜â\\x81£â\\x81£'\n",
    "for s in data['tweet'].fillna('').astype(str):\n",
    "    for c in s:\n",
    "        if c.isdigit() or c.isalpha() or c.isalnum() or c.isspace() or c in punct:\n",
    "            continue\n",
    "        emoji.add(c)\n",
    "\n",
    "for s in symbol:\n",
    "  emoji.add(s)\n",
    "\n",
    "print(''.join(emoji))"
   ]
  },
  {
   "cell_type": "code",
   "execution_count": 39,
   "metadata": {
    "colab": {
     "base_uri": "https://localhost:8080/",
     "height": 86
    },
    "id": "xczhEw3wBB_P",
    "outputId": "4e9ecc68-a253-4528-9731-a0bc0c214c6f"
   },
   "outputs": [
    {
     "data": {
      "text/plain": [
       "'Semainya satu, tumbuhnya dua..  Kalo dijual perpohon bisa menang banyak ini ...'"
      ]
     },
     "execution_count": 39,
     "metadata": {},
     "output_type": "execute_result"
    }
   ],
   "source": [
    "def remove_emoji(text):\n",
    "  temp = ''\n",
    "  for c in text:\n",
    "    if c not in emoji:\n",
    "      temp += c\n",
    "  \n",
    "  return temp\n",
    "  \n",
    "remove_emoji('Semainya satu, tumbuhnya dua.. ðŸ˜…â£â£ Kalo dijual perpohon bisa menang banyak ini ðŸ˜ðŸ˜â£.â£.â£.')"
   ]
  },
  {
   "cell_type": "code",
   "execution_count": 40,
   "metadata": {
    "id": "vFMER9vmBGCh"
   },
   "outputs": [
    {
     "name": "stderr",
     "output_type": "stream",
     "text": [
      "<ipython-input-40-45cfc3f81f0e>:1: SettingWithCopyWarning: \n",
      "A value is trying to be set on a copy of a slice from a DataFrame.\n",
      "Try using .loc[row_indexer,col_indexer] = value instead\n",
      "\n",
      "See the caveats in the documentation: https://pandas.pydata.org/pandas-docs/stable/user_guide/indexing.html#returning-a-view-versus-a-copy\n",
      "  data['tweet'] = data['tweet'].apply(lambda x : remove_emoji(x))\n"
     ]
    }
   ],
   "source": [
    "data['tweet'] = data['tweet'].apply(lambda x : remove_emoji(x))"
   ]
  },
  {
   "cell_type": "markdown",
   "metadata": {
    "id": "OlZx6GfcBKum"
   },
   "source": [
    "**Remove Hastag**"
   ]
  },
  {
   "cell_type": "code",
   "execution_count": 41,
   "metadata": {
    "colab": {
     "base_uri": "https://localhost:8080/"
    },
    "id": "5LSxqaHbBKJR",
    "outputId": "e80aba76-fcf4-4068-ba2d-7fe1a0de0359"
   },
   "outputs": [
    {
     "name": "stdout",
     "output_type": "stream",
     "text": [
      "kalo dijual perpohon...       \n"
     ]
    }
   ],
   "source": [
    "#https://ichi.pro/id/membersihkan-data-teks-dengan-python-200778039524214\n",
    "\n",
    "def remove_hastag(x):\n",
    "  x = re.sub(r'#\\S+', ' ', x)\n",
    "  return x\n",
    "\n",
    "print(remove_hastag('kalo dijual perpohon...#simpleplanthidroponik #simpleplantbyyuka #simpleplant #selada'))"
   ]
  },
  {
   "cell_type": "code",
   "execution_count": 42,
   "metadata": {
    "id": "lRGBfcdGBPOf"
   },
   "outputs": [
    {
     "name": "stderr",
     "output_type": "stream",
     "text": [
      "<ipython-input-42-63a0896b0156>:1: SettingWithCopyWarning: \n",
      "A value is trying to be set on a copy of a slice from a DataFrame.\n",
      "Try using .loc[row_indexer,col_indexer] = value instead\n",
      "\n",
      "See the caveats in the documentation: https://pandas.pydata.org/pandas-docs/stable/user_guide/indexing.html#returning-a-view-versus-a-copy\n",
      "  data['tweet'] = data['tweet'].apply(lambda x : remove_hastag(x))\n"
     ]
    }
   ],
   "source": [
    "data['tweet'] = data['tweet'].apply(lambda x : remove_hastag(x))"
   ]
  },
  {
   "cell_type": "markdown",
   "metadata": {
    "id": "YXWLSZ6b4pz5"
   },
   "source": [
    "**Remove Punctuation**"
   ]
  },
  {
   "cell_type": "code",
   "execution_count": 43,
   "metadata": {
    "colab": {
     "base_uri": "https://localhost:8080/"
    },
    "id": "sp8PVrUX4V9t",
    "outputId": "ba33e6c1-2346-42ee-f509-7ccad421a2fd"
   },
   "outputs": [
    {
     "name": "stdout",
     "output_type": "stream",
     "text": [
      "I am a king\n"
     ]
    }
   ],
   "source": [
    "def remove_punct(text):\n",
    "    table=str.maketrans('','',string.punctuation)\n",
    "    return text.translate(table)\n",
    "\n",
    "example=\"I am a #king\"\n",
    "print(remove_punct(example))"
   ]
  },
  {
   "cell_type": "code",
   "execution_count": 44,
   "metadata": {
    "id": "jfFfpzjM4V54"
   },
   "outputs": [
    {
     "name": "stderr",
     "output_type": "stream",
     "text": [
      "<ipython-input-44-375d9d198427>:1: SettingWithCopyWarning: \n",
      "A value is trying to be set on a copy of a slice from a DataFrame.\n",
      "Try using .loc[row_indexer,col_indexer] = value instead\n",
      "\n",
      "See the caveats in the documentation: https://pandas.pydata.org/pandas-docs/stable/user_guide/indexing.html#returning-a-view-versus-a-copy\n",
      "  data['tweet'] = data['tweet'].apply(lambda x : remove_punct(x))\n"
     ]
    }
   ],
   "source": [
    "data['tweet'] = data['tweet'].apply(lambda x : remove_punct(x))"
   ]
  },
  {
   "cell_type": "markdown",
   "metadata": {
    "id": "0wAOBB4eEoeQ"
   },
   "source": [
    "**Make Lower**"
   ]
  },
  {
   "cell_type": "code",
   "execution_count": 45,
   "metadata": {
    "id": "RfSoSNeoEmUX"
   },
   "outputs": [
    {
     "name": "stderr",
     "output_type": "stream",
     "text": [
      "<ipython-input-45-86a8dbfe4695>:1: SettingWithCopyWarning: \n",
      "A value is trying to be set on a copy of a slice from a DataFrame.\n",
      "Try using .loc[row_indexer,col_indexer] = value instead\n",
      "\n",
      "See the caveats in the documentation: https://pandas.pydata.org/pandas-docs/stable/user_guide/indexing.html#returning-a-view-versus-a-copy\n",
      "  data['tweet'] = data['tweet'].apply(lambda x : x.lower())\n"
     ]
    }
   ],
   "source": [
    "data['tweet'] = data['tweet'].apply(lambda x : x.lower())"
   ]
  },
  {
   "cell_type": "code",
   "execution_count": 46,
   "metadata": {
    "colab": {
     "base_uri": "https://localhost:8080/",
     "height": 419
    },
    "id": "lgrK0-AE9w6X",
    "outputId": "e4f78847-0820-401b-9b21-26b7ea96d8a4"
   },
   "outputs": [
    {
     "data": {
      "text/html": [
       "<div>\n",
       "<style scoped>\n",
       "    .dataframe tbody tr th:only-of-type {\n",
       "        vertical-align: middle;\n",
       "    }\n",
       "\n",
       "    .dataframe tbody tr th {\n",
       "        vertical-align: top;\n",
       "    }\n",
       "\n",
       "    .dataframe thead th {\n",
       "        text-align: right;\n",
       "    }\n",
       "</style>\n",
       "<table border=\"1\" class=\"dataframe\">\n",
       "  <thead>\n",
       "    <tr style=\"text-align: right;\">\n",
       "      <th></th>\n",
       "      <th>Unnamed: 0</th>\n",
       "      <th>created_at</th>\n",
       "      <th>date</th>\n",
       "      <th>time</th>\n",
       "      <th>username</th>\n",
       "      <th>tweet</th>\n",
       "    </tr>\n",
       "  </thead>\n",
       "  <tbody>\n",
       "    <tr>\n",
       "      <th>0</th>\n",
       "      <td>0</td>\n",
       "      <td>2021-11-21 14:30:01 SE Asia Standard Time</td>\n",
       "      <td>2021-11-21</td>\n",
       "      <td>14:30:01</td>\n",
       "      <td>nowbitcoinprice</td>\n",
       "      <td>nov 21 2021 072900 utc  5915880  5241270  4400...</td>\n",
       "    </tr>\n",
       "    <tr>\n",
       "      <th>1</th>\n",
       "      <td>1</td>\n",
       "      <td>2021-11-21 14:22:26 SE Asia Standard Time</td>\n",
       "      <td>2021-11-21</td>\n",
       "      <td>14:22:26</td>\n",
       "      <td>bitcoingraph</td>\n",
       "      <td>btcusdt  h4</td>\n",
       "    </tr>\n",
       "    <tr>\n",
       "      <th>2</th>\n",
       "      <td>2</td>\n",
       "      <td>2021-11-21 14:17:14 SE Asia Standard Time</td>\n",
       "      <td>2021-11-21</td>\n",
       "      <td>14:17:14</td>\n",
       "      <td>shanaz3197</td>\n",
       "      <td>tunefmofficial jam hbar</td>\n",
       "    </tr>\n",
       "    <tr>\n",
       "      <th>4</th>\n",
       "      <td>4</td>\n",
       "      <td>2021-11-21 14:07:27 SE Asia Standard Time</td>\n",
       "      <td>2021-11-21</td>\n",
       "      <td>14:07:27</td>\n",
       "      <td>khaiyaraya</td>\n",
       "      <td>first meeting crypto trading   kepada yang ing...</td>\n",
       "    </tr>\n",
       "    <tr>\n",
       "      <th>5</th>\n",
       "      <td>5</td>\n",
       "      <td>2021-11-21 14:00:01 SE Asia Standard Time</td>\n",
       "      <td>2021-11-21</td>\n",
       "      <td>14:00:01</td>\n",
       "      <td>nowbitcoinprice</td>\n",
       "      <td>nov 21 2021 065900 utc  5927870  5251900  4408...</td>\n",
       "    </tr>\n",
       "    <tr>\n",
       "      <th>...</th>\n",
       "      <td>...</td>\n",
       "      <td>...</td>\n",
       "      <td>...</td>\n",
       "      <td>...</td>\n",
       "      <td>...</td>\n",
       "      <td>...</td>\n",
       "    </tr>\n",
       "    <tr>\n",
       "      <th>5784</th>\n",
       "      <td>5784</td>\n",
       "      <td>2021-11-21 14:49:42 SE Asia Standard Time</td>\n",
       "      <td>2021-11-21</td>\n",
       "      <td>14:49:42</td>\n",
       "      <td>stevenjhsiahaan</td>\n",
       "      <td>halo sekarang kamu bisa investasi saham luar n...</td>\n",
       "    </tr>\n",
       "    <tr>\n",
       "      <th>5785</th>\n",
       "      <td>5785</td>\n",
       "      <td>2021-11-21 14:45:28 SE Asia Standard Time</td>\n",
       "      <td>2021-11-21</td>\n",
       "      <td>14:45:28</td>\n",
       "      <td>samuelcendikia1</td>\n",
       "      <td>halo sekarang kamu bisa investasi saham luar n...</td>\n",
       "    </tr>\n",
       "    <tr>\n",
       "      <th>5786</th>\n",
       "      <td>5786</td>\n",
       "      <td>2021-11-21 14:39:45 SE Asia Standard Time</td>\n",
       "      <td>2021-11-21</td>\n",
       "      <td>14:39:45</td>\n",
       "      <td>saturnusgo</td>\n",
       "      <td>binnybunny96 bigalphaid kripto haram mbak  ttd...</td>\n",
       "    </tr>\n",
       "    <tr>\n",
       "      <th>5787</th>\n",
       "      <td>5787</td>\n",
       "      <td>2021-11-21 14:35:25 SE Asia Standard Time</td>\n",
       "      <td>2021-11-21</td>\n",
       "      <td>14:35:25</td>\n",
       "      <td>muhamad25615484</td>\n",
       "      <td>halo sekarang kamu bisa investasi saham luar n...</td>\n",
       "    </tr>\n",
       "    <tr>\n",
       "      <th>5860</th>\n",
       "      <td>5860</td>\n",
       "      <td>2021-11-21 07:04:49 SE Asia Standard Time</td>\n",
       "      <td>2021-11-21</td>\n",
       "      <td>07:04:49</td>\n",
       "      <td>iqballl___</td>\n",
       "      <td>yang mengharamkan kripto pernah gak sih mikir ...</td>\n",
       "    </tr>\n",
       "  </tbody>\n",
       "</table>\n",
       "<p>3361 rows × 6 columns</p>\n",
       "</div>"
      ],
      "text/plain": [
       "      Unnamed: 0                                 created_at        date  \\\n",
       "0              0  2021-11-21 14:30:01 SE Asia Standard Time  2021-11-21   \n",
       "1              1  2021-11-21 14:22:26 SE Asia Standard Time  2021-11-21   \n",
       "2              2  2021-11-21 14:17:14 SE Asia Standard Time  2021-11-21   \n",
       "4              4  2021-11-21 14:07:27 SE Asia Standard Time  2021-11-21   \n",
       "5              5  2021-11-21 14:00:01 SE Asia Standard Time  2021-11-21   \n",
       "...          ...                                        ...         ...   \n",
       "5784        5784  2021-11-21 14:49:42 SE Asia Standard Time  2021-11-21   \n",
       "5785        5785  2021-11-21 14:45:28 SE Asia Standard Time  2021-11-21   \n",
       "5786        5786  2021-11-21 14:39:45 SE Asia Standard Time  2021-11-21   \n",
       "5787        5787  2021-11-21 14:35:25 SE Asia Standard Time  2021-11-21   \n",
       "5860        5860  2021-11-21 07:04:49 SE Asia Standard Time  2021-11-21   \n",
       "\n",
       "          time         username  \\\n",
       "0     14:30:01  nowbitcoinprice   \n",
       "1     14:22:26     bitcoingraph   \n",
       "2     14:17:14       shanaz3197   \n",
       "4     14:07:27       khaiyaraya   \n",
       "5     14:00:01  nowbitcoinprice   \n",
       "...        ...              ...   \n",
       "5784  14:49:42  stevenjhsiahaan   \n",
       "5785  14:45:28  samuelcendikia1   \n",
       "5786  14:39:45       saturnusgo   \n",
       "5787  14:35:25  muhamad25615484   \n",
       "5860  07:04:49       iqballl___   \n",
       "\n",
       "                                                  tweet  \n",
       "0     nov 21 2021 072900 utc  5915880  5241270  4400...  \n",
       "1                           btcusdt  h4                  \n",
       "2                         tunefmofficial jam hbar        \n",
       "4     first meeting crypto trading   kepada yang ing...  \n",
       "5     nov 21 2021 065900 utc  5927870  5251900  4408...  \n",
       "...                                                 ...  \n",
       "5784  halo sekarang kamu bisa investasi saham luar n...  \n",
       "5785  halo sekarang kamu bisa investasi saham luar n...  \n",
       "5786  binnybunny96 bigalphaid kripto haram mbak  ttd...  \n",
       "5787  halo sekarang kamu bisa investasi saham luar n...  \n",
       "5860  yang mengharamkan kripto pernah gak sih mikir ...  \n",
       "\n",
       "[3361 rows x 6 columns]"
      ]
     },
     "execution_count": 46,
     "metadata": {},
     "output_type": "execute_result"
    }
   ],
   "source": [
    "data"
   ]
  },
  {
   "cell_type": "code",
   "execution_count": 48,
   "metadata": {},
   "outputs": [
    {
     "data": {
      "text/plain": [
       "Unnamed: 0    0\n",
       "created_at    0\n",
       "date          0\n",
       "time          0\n",
       "username      0\n",
       "tweet         0\n",
       "dtype: int64"
      ]
     },
     "execution_count": 48,
     "metadata": {},
     "output_type": "execute_result"
    }
   ],
   "source": [
    "data.isna().sum()"
   ]
  },
  {
   "cell_type": "code",
   "execution_count": 49,
   "metadata": {},
   "outputs": [
    {
     "data": {
      "text/html": [
       "<div>\n",
       "<style scoped>\n",
       "    .dataframe tbody tr th:only-of-type {\n",
       "        vertical-align: middle;\n",
       "    }\n",
       "\n",
       "    .dataframe tbody tr th {\n",
       "        vertical-align: top;\n",
       "    }\n",
       "\n",
       "    .dataframe thead th {\n",
       "        text-align: right;\n",
       "    }\n",
       "</style>\n",
       "<table border=\"1\" class=\"dataframe\">\n",
       "  <thead>\n",
       "    <tr style=\"text-align: right;\">\n",
       "      <th></th>\n",
       "      <th>Unnamed: 0</th>\n",
       "      <th>created_at</th>\n",
       "      <th>date</th>\n",
       "      <th>time</th>\n",
       "      <th>username</th>\n",
       "      <th>tweet</th>\n",
       "    </tr>\n",
       "  </thead>\n",
       "  <tbody>\n",
       "    <tr>\n",
       "      <th>0</th>\n",
       "      <td>0</td>\n",
       "      <td>2021-11-21 14:30:01 SE Asia Standard Time</td>\n",
       "      <td>2021-11-21</td>\n",
       "      <td>14:30:01</td>\n",
       "      <td>nowbitcoinprice</td>\n",
       "      <td>nov 21 2021 072900 utc  5915880  5241270  4400...</td>\n",
       "    </tr>\n",
       "    <tr>\n",
       "      <th>1</th>\n",
       "      <td>1</td>\n",
       "      <td>2021-11-21 14:22:26 SE Asia Standard Time</td>\n",
       "      <td>2021-11-21</td>\n",
       "      <td>14:22:26</td>\n",
       "      <td>bitcoingraph</td>\n",
       "      <td>btcusdt  h4</td>\n",
       "    </tr>\n",
       "    <tr>\n",
       "      <th>2</th>\n",
       "      <td>2</td>\n",
       "      <td>2021-11-21 14:17:14 SE Asia Standard Time</td>\n",
       "      <td>2021-11-21</td>\n",
       "      <td>14:17:14</td>\n",
       "      <td>shanaz3197</td>\n",
       "      <td>tunefmofficial jam hbar</td>\n",
       "    </tr>\n",
       "    <tr>\n",
       "      <th>4</th>\n",
       "      <td>4</td>\n",
       "      <td>2021-11-21 14:07:27 SE Asia Standard Time</td>\n",
       "      <td>2021-11-21</td>\n",
       "      <td>14:07:27</td>\n",
       "      <td>khaiyaraya</td>\n",
       "      <td>first meeting crypto trading   kepada yang ing...</td>\n",
       "    </tr>\n",
       "    <tr>\n",
       "      <th>5</th>\n",
       "      <td>5</td>\n",
       "      <td>2021-11-21 14:00:01 SE Asia Standard Time</td>\n",
       "      <td>2021-11-21</td>\n",
       "      <td>14:00:01</td>\n",
       "      <td>nowbitcoinprice</td>\n",
       "      <td>nov 21 2021 065900 utc  5927870  5251900  4408...</td>\n",
       "    </tr>\n",
       "    <tr>\n",
       "      <th>...</th>\n",
       "      <td>...</td>\n",
       "      <td>...</td>\n",
       "      <td>...</td>\n",
       "      <td>...</td>\n",
       "      <td>...</td>\n",
       "      <td>...</td>\n",
       "    </tr>\n",
       "    <tr>\n",
       "      <th>5784</th>\n",
       "      <td>5784</td>\n",
       "      <td>2021-11-21 14:49:42 SE Asia Standard Time</td>\n",
       "      <td>2021-11-21</td>\n",
       "      <td>14:49:42</td>\n",
       "      <td>stevenjhsiahaan</td>\n",
       "      <td>halo sekarang kamu bisa investasi saham luar n...</td>\n",
       "    </tr>\n",
       "    <tr>\n",
       "      <th>5785</th>\n",
       "      <td>5785</td>\n",
       "      <td>2021-11-21 14:45:28 SE Asia Standard Time</td>\n",
       "      <td>2021-11-21</td>\n",
       "      <td>14:45:28</td>\n",
       "      <td>samuelcendikia1</td>\n",
       "      <td>halo sekarang kamu bisa investasi saham luar n...</td>\n",
       "    </tr>\n",
       "    <tr>\n",
       "      <th>5786</th>\n",
       "      <td>5786</td>\n",
       "      <td>2021-11-21 14:39:45 SE Asia Standard Time</td>\n",
       "      <td>2021-11-21</td>\n",
       "      <td>14:39:45</td>\n",
       "      <td>saturnusgo</td>\n",
       "      <td>binnybunny96 bigalphaid kripto haram mbak  ttd...</td>\n",
       "    </tr>\n",
       "    <tr>\n",
       "      <th>5787</th>\n",
       "      <td>5787</td>\n",
       "      <td>2021-11-21 14:35:25 SE Asia Standard Time</td>\n",
       "      <td>2021-11-21</td>\n",
       "      <td>14:35:25</td>\n",
       "      <td>muhamad25615484</td>\n",
       "      <td>halo sekarang kamu bisa investasi saham luar n...</td>\n",
       "    </tr>\n",
       "    <tr>\n",
       "      <th>5860</th>\n",
       "      <td>5860</td>\n",
       "      <td>2021-11-21 07:04:49 SE Asia Standard Time</td>\n",
       "      <td>2021-11-21</td>\n",
       "      <td>07:04:49</td>\n",
       "      <td>iqballl___</td>\n",
       "      <td>yang mengharamkan kripto pernah gak sih mikir ...</td>\n",
       "    </tr>\n",
       "  </tbody>\n",
       "</table>\n",
       "<p>3098 rows × 6 columns</p>\n",
       "</div>"
      ],
      "text/plain": [
       "      Unnamed: 0                                 created_at        date  \\\n",
       "0              0  2021-11-21 14:30:01 SE Asia Standard Time  2021-11-21   \n",
       "1              1  2021-11-21 14:22:26 SE Asia Standard Time  2021-11-21   \n",
       "2              2  2021-11-21 14:17:14 SE Asia Standard Time  2021-11-21   \n",
       "4              4  2021-11-21 14:07:27 SE Asia Standard Time  2021-11-21   \n",
       "5              5  2021-11-21 14:00:01 SE Asia Standard Time  2021-11-21   \n",
       "...          ...                                        ...         ...   \n",
       "5784        5784  2021-11-21 14:49:42 SE Asia Standard Time  2021-11-21   \n",
       "5785        5785  2021-11-21 14:45:28 SE Asia Standard Time  2021-11-21   \n",
       "5786        5786  2021-11-21 14:39:45 SE Asia Standard Time  2021-11-21   \n",
       "5787        5787  2021-11-21 14:35:25 SE Asia Standard Time  2021-11-21   \n",
       "5860        5860  2021-11-21 07:04:49 SE Asia Standard Time  2021-11-21   \n",
       "\n",
       "          time         username  \\\n",
       "0     14:30:01  nowbitcoinprice   \n",
       "1     14:22:26     bitcoingraph   \n",
       "2     14:17:14       shanaz3197   \n",
       "4     14:07:27       khaiyaraya   \n",
       "5     14:00:01  nowbitcoinprice   \n",
       "...        ...              ...   \n",
       "5784  14:49:42  stevenjhsiahaan   \n",
       "5785  14:45:28  samuelcendikia1   \n",
       "5786  14:39:45       saturnusgo   \n",
       "5787  14:35:25  muhamad25615484   \n",
       "5860  07:04:49       iqballl___   \n",
       "\n",
       "                                                  tweet  \n",
       "0     nov 21 2021 072900 utc  5915880  5241270  4400...  \n",
       "1                           btcusdt  h4                  \n",
       "2                         tunefmofficial jam hbar        \n",
       "4     first meeting crypto trading   kepada yang ing...  \n",
       "5     nov 21 2021 065900 utc  5927870  5251900  4408...  \n",
       "...                                                 ...  \n",
       "5784  halo sekarang kamu bisa investasi saham luar n...  \n",
       "5785  halo sekarang kamu bisa investasi saham luar n...  \n",
       "5786  binnybunny96 bigalphaid kripto haram mbak  ttd...  \n",
       "5787  halo sekarang kamu bisa investasi saham luar n...  \n",
       "5860  yang mengharamkan kripto pernah gak sih mikir ...  \n",
       "\n",
       "[3098 rows x 6 columns]"
      ]
     },
     "execution_count": 49,
     "metadata": {},
     "output_type": "execute_result"
    }
   ],
   "source": [
    "data = data.drop_duplicates(subset=['tweet'])\n",
    "data"
   ]
  },
  {
   "cell_type": "code",
   "execution_count": 51,
   "metadata": {},
   "outputs": [],
   "source": [
    "data.to_csv ('data.csv', index = None, header=True) "
   ]
  }
 ],
 "metadata": {
  "colab": {
   "collapsed_sections": [
    "UEs72yOK-Am7",
    "VjL3z4w371Ut"
   ],
   "name": "Model Klasifikasi Berita",
   "provenance": []
  },
  "kernelspec": {
   "display_name": "Python 3",
   "language": "python",
   "name": "python3"
  },
  "language_info": {
   "codemirror_mode": {
    "name": "ipython",
    "version": 3
   },
   "file_extension": ".py",
   "mimetype": "text/x-python",
   "name": "python",
   "nbconvert_exporter": "python",
   "pygments_lexer": "ipython3",
   "version": "3.8.8"
  }
 },
 "nbformat": 4,
 "nbformat_minor": 1
}
